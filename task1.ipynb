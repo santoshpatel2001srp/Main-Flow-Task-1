{
 "cells": [
  {
   "cell_type": "code",
   "execution_count": 5,
   "id": "6dbd74f4-54d5-4445-84d5-0dc324043340",
   "metadata": {},
   "outputs": [
    {
     "name": "stdout",
     "output_type": "stream",
     "text": [
      "My List: [1, 2, 3, 4, 5]\n",
      "List after adding an element: [1, 2, 3, 4, 5, 6]\n",
      "List after removing an element: [1, 2, 4, 5, 6]\n",
      "List after modifying an element: [1, 2, 10, 5, 6]\n",
      "My Dictionary: {'name': 'Alice', 'age': 30, 'city': 'New York'}\n",
      "Dictionary after adding a pair: {'name': 'Alice', 'age': 30, 'city': 'New York', 'occupation': 'Engineer'}\n",
      "Dictionary after removing a key: {'name': 'Alice', 'city': 'New York', 'occupation': 'Engineer'}\n",
      "Dictionary after modifying a key: {'name': 'John', 'city': 'New York', 'occupation': 'Engineer'}\n",
      "My Set: {1, 2, 3, 4, 5}\n",
      "Set after adding an element: {1, 2, 3, 4, 5, 6}\n",
      "Set after removing an element: {1, 2, 4, 5, 6}\n",
      "Set after modifying an element: {1, 2, 4, 5, 6, 10}\n"
     ]
    }
   ],
   "source": [
    "# Create a list\n",
    "my_list = [1, 2, 3, 4, 5]\n",
    "print(\"My List:\", my_list)\n",
    "\n",
    "# Add an element to the list\n",
    "my_list.append(6)\n",
    "print(\"List after adding an element:\",my_list)\n",
    "\n",
    "# Remove an element from the list\n",
    "my_list.remove(3)\n",
    "print(\"List after removing an element:\",my_list)\n",
    "\n",
    "# Modify an element in the list\n",
    "my_list[2] = 10\n",
    "print(\"List after modifying an element:\", my_list)\n",
    "\n",
    "# Create a dictionary\n",
    "my_dict = {'name': 'Alice', 'age': 30, 'city': 'New York'}\n",
    "print(\"My Dictionary:\", my_dict)\n",
    "\n",
    "# Add a key-value pair to the dictionary\n",
    "my_dict['occupation'] = 'Engineer'\n",
    "print(\"Dictionary after adding a pair:\", my_dict)\n",
    "\n",
    "# Remove a key from the dictionary\n",
    "del my_dict['age']\n",
    "print(\"Dictionary after removing a key:\", my_dict)\n",
    "\n",
    "# Modify a key from the dictionary\n",
    "my_dict['name'] = 'John'\n",
    "print(\"Dictionary after modifying a key:\", my_dict)\n",
    "\n",
    "# Create a set\n",
    "my_set = {1, 2, 3, 4, 5}\n",
    "print(\"My Set:\", my_set)\n",
    "\n",
    "# Add an element to the set\n",
    "my_set.add(6)\n",
    "print(\"Set after adding an element:\", my_set)\n",
    "\n",
    "# Remove an element from the set\n",
    "my_set.discard(3)\n",
    "print(\"Set after removing an element:\", my_set)\n",
    "\n",
    "# Modify an element from the set\n",
    "my_set.add(10)\n",
    "print(\"Set after modifying an element:\", my_set)\n"
   ]
  },
  {
   "cell_type": "code",
   "execution_count": null,
   "id": "d9a3e400-4a6d-4458-b153-750c12a75af4",
   "metadata": {},
   "outputs": [],
   "source": []
  }
 ],
 "metadata": {
  "kernelspec": {
   "display_name": "Python 3 (ipykernel)",
   "language": "python",
   "name": "python3"
  },
  "language_info": {
   "codemirror_mode": {
    "name": "ipython",
    "version": 3
   },
   "file_extension": ".py",
   "mimetype": "text/x-python",
   "name": "python",
   "nbconvert_exporter": "python",
   "pygments_lexer": "ipython3",
   "version": "3.12.3"
  }
 },
 "nbformat": 4,
 "nbformat_minor": 5
}
